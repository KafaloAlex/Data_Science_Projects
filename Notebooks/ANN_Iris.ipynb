{
  "nbformat": 4,
  "nbformat_minor": 0,
  "metadata": {
    "colab": {
      "provenance": []
    },
    "kernelspec": {
      "name": "python3",
      "display_name": "Python 3"
    },
    "language_info": {
      "name": "python"
    }
  },
  "cells": [
    {
      "cell_type": "code",
      "execution_count": 1,
      "metadata": {
        "id": "XPqXXlWgPwF3"
      },
      "outputs": [],
      "source": [
        "import tensorflow as tf\n",
        "\n",
        "from sklearn.datasets import load_iris\n",
        "from sklearn.model_selection import train_test_split\n",
        "from sklearn.preprocessing import OneHotEncoder"
      ]
    },
    {
      "cell_type": "code",
      "source": [
        "# Chargement du jeu de données\n",
        "iris_data = load_iris()\n",
        "features = iris_data.data\n",
        "target = iris_data.target.reshape(-1, 1)"
      ],
      "metadata": {
        "id": "kxun8bXfR2yq"
      },
      "execution_count": 7,
      "outputs": []
    },
    {
      "cell_type": "code",
      "source": [
        "# Encodage des targets\n",
        "targets = OneHotEncoder().fit_transform(target).toarray()"
      ],
      "metadata": {
        "id": "9WRARQwqSOuJ"
      },
      "execution_count": 10,
      "outputs": []
    },
    {
      "cell_type": "code",
      "source": [
        "# Séparation des données en Tain et Test\n",
        "X_train, X_test, y_train, y_test = train_test_split(features, targets, test_size=0.2)"
      ],
      "metadata": {
        "id": "I90gm8-aTaiZ"
      },
      "execution_count": 11,
      "outputs": []
    },
    {
      "cell_type": "code",
      "source": [
        "# Définition du Modèle\n",
        "model = tf.keras.models.Sequential([\n",
        "    tf.keras.layers.Dense(10, activation='relu'),\n",
        "    tf.keras.layers.Dense(3, activation='softmax')\n",
        "])"
      ],
      "metadata": {
        "id": "AQJnSBWUTinI"
      },
      "execution_count": 12,
      "outputs": []
    },
    {
      "cell_type": "code",
      "source": [
        "# Compilation du modèle\n",
        "model.compile(optimizer=\"adam\", loss='categorical_crossentropy', metrics=['accuracy'])"
      ],
      "metadata": {
        "id": "vMy6d-bgVvOG"
      },
      "execution_count": 16,
      "outputs": []
    },
    {
      "cell_type": "code",
      "source": [
        "# Entrainement du modèle\n",
        "model.fit(X_train, y_train, epochs=50, batch_size=1, verbose=1)"
      ],
      "metadata": {
        "colab": {
          "base_uri": "https://localhost:8080/"
        },
        "id": "lKHJWCfMWXak",
        "outputId": "4cb557f0-ff7d-4b68-bedb-c414398022e6"
      },
      "execution_count": 14,
      "outputs": [
        {
          "output_type": "stream",
          "name": "stdout",
          "text": [
            "Epoch 1/50\n",
            "120/120 [==============================] - 2s 2ms/step - loss: 1.8484 - accuracy: 0.2083\n",
            "Epoch 2/50\n",
            "120/120 [==============================] - 0s 2ms/step - loss: 1.4123 - accuracy: 0.1417\n",
            "Epoch 3/50\n",
            "120/120 [==============================] - 0s 2ms/step - loss: 1.1742 - accuracy: 0.0917\n",
            "Epoch 4/50\n",
            "120/120 [==============================] - 0s 2ms/step - loss: 0.9950 - accuracy: 0.3833\n",
            "Epoch 5/50\n",
            "120/120 [==============================] - 0s 2ms/step - loss: 0.8450 - accuracy: 0.5417\n",
            "Epoch 6/50\n",
            "120/120 [==============================] - 0s 2ms/step - loss: 0.7433 - accuracy: 0.5667\n",
            "Epoch 7/50\n",
            "120/120 [==============================] - 0s 2ms/step - loss: 0.6590 - accuracy: 0.6500\n",
            "Epoch 8/50\n",
            "120/120 [==============================] - 0s 2ms/step - loss: 0.6029 - accuracy: 0.6833\n",
            "Epoch 9/50\n",
            "120/120 [==============================] - 0s 2ms/step - loss: 0.5558 - accuracy: 0.6917\n",
            "Epoch 10/50\n",
            "120/120 [==============================] - 0s 2ms/step - loss: 0.5174 - accuracy: 0.7583\n",
            "Epoch 11/50\n",
            "120/120 [==============================] - 0s 2ms/step - loss: 0.4905 - accuracy: 0.7083\n",
            "Epoch 12/50\n",
            "120/120 [==============================] - 0s 2ms/step - loss: 0.4696 - accuracy: 0.7833\n",
            "Epoch 13/50\n",
            "120/120 [==============================] - 0s 2ms/step - loss: 0.4406 - accuracy: 0.8667\n",
            "Epoch 14/50\n",
            "120/120 [==============================] - 0s 2ms/step - loss: 0.4227 - accuracy: 0.8583\n",
            "Epoch 15/50\n",
            "120/120 [==============================] - 0s 2ms/step - loss: 0.4121 - accuracy: 0.8917\n",
            "Epoch 16/50\n",
            "120/120 [==============================] - 0s 2ms/step - loss: 0.3923 - accuracy: 0.9333\n",
            "Epoch 17/50\n",
            "120/120 [==============================] - 0s 2ms/step - loss: 0.3688 - accuracy: 0.9583\n",
            "Epoch 18/50\n",
            "120/120 [==============================] - 0s 2ms/step - loss: 0.3641 - accuracy: 0.9083\n",
            "Epoch 19/50\n",
            "120/120 [==============================] - 0s 2ms/step - loss: 0.3465 - accuracy: 0.9333\n",
            "Epoch 20/50\n",
            "120/120 [==============================] - 0s 2ms/step - loss: 0.3353 - accuracy: 0.9583\n",
            "Epoch 21/50\n",
            "120/120 [==============================] - 0s 2ms/step - loss: 0.3237 - accuracy: 0.9333\n",
            "Epoch 22/50\n",
            "120/120 [==============================] - 0s 2ms/step - loss: 0.3134 - accuracy: 0.9333\n",
            "Epoch 23/50\n",
            "120/120 [==============================] - 0s 2ms/step - loss: 0.2940 - accuracy: 0.9333\n",
            "Epoch 24/50\n",
            "120/120 [==============================] - 0s 2ms/step - loss: 0.2904 - accuracy: 0.9500\n",
            "Epoch 25/50\n",
            "120/120 [==============================] - 0s 2ms/step - loss: 0.2792 - accuracy: 0.9583\n",
            "Epoch 26/50\n",
            "120/120 [==============================] - 0s 2ms/step - loss: 0.2656 - accuracy: 0.9583\n",
            "Epoch 27/50\n",
            "120/120 [==============================] - 0s 2ms/step - loss: 0.2565 - accuracy: 0.9750\n",
            "Epoch 28/50\n",
            "120/120 [==============================] - 0s 2ms/step - loss: 0.2416 - accuracy: 0.9667\n",
            "Epoch 29/50\n",
            "120/120 [==============================] - 0s 2ms/step - loss: 0.2415 - accuracy: 0.9500\n",
            "Epoch 30/50\n",
            "120/120 [==============================] - 0s 2ms/step - loss: 0.2306 - accuracy: 0.9583\n",
            "Epoch 31/50\n",
            "120/120 [==============================] - 0s 2ms/step - loss: 0.2219 - accuracy: 0.9583\n",
            "Epoch 32/50\n",
            "120/120 [==============================] - 0s 2ms/step - loss: 0.2236 - accuracy: 0.9667\n",
            "Epoch 33/50\n",
            "120/120 [==============================] - 0s 2ms/step - loss: 0.2091 - accuracy: 0.9750\n",
            "Epoch 34/50\n",
            "120/120 [==============================] - 0s 2ms/step - loss: 0.1928 - accuracy: 0.9667\n",
            "Epoch 35/50\n",
            "120/120 [==============================] - 0s 2ms/step - loss: 0.1978 - accuracy: 0.9500\n",
            "Epoch 36/50\n",
            "120/120 [==============================] - 0s 2ms/step - loss: 0.1879 - accuracy: 0.9583\n",
            "Epoch 37/50\n",
            "120/120 [==============================] - 0s 2ms/step - loss: 0.1886 - accuracy: 0.9583\n",
            "Epoch 38/50\n",
            "120/120 [==============================] - 0s 2ms/step - loss: 0.1754 - accuracy: 0.9667\n",
            "Epoch 39/50\n",
            "120/120 [==============================] - 0s 2ms/step - loss: 0.1736 - accuracy: 0.9500\n",
            "Epoch 40/50\n",
            "120/120 [==============================] - 0s 2ms/step - loss: 0.1705 - accuracy: 0.9667\n",
            "Epoch 41/50\n",
            "120/120 [==============================] - 0s 3ms/step - loss: 0.1703 - accuracy: 0.9500\n",
            "Epoch 42/50\n",
            "120/120 [==============================] - 0s 3ms/step - loss: 0.1645 - accuracy: 0.9583\n",
            "Epoch 43/50\n",
            "120/120 [==============================] - 0s 3ms/step - loss: 0.1561 - accuracy: 0.9667\n",
            "Epoch 44/50\n",
            "120/120 [==============================] - 0s 3ms/step - loss: 0.1538 - accuracy: 0.9500\n",
            "Epoch 45/50\n",
            "120/120 [==============================] - 0s 3ms/step - loss: 0.1501 - accuracy: 0.9583\n",
            "Epoch 46/50\n",
            "120/120 [==============================] - 0s 3ms/step - loss: 0.1449 - accuracy: 0.9583\n",
            "Epoch 47/50\n",
            "120/120 [==============================] - 0s 3ms/step - loss: 0.1409 - accuracy: 0.9500\n",
            "Epoch 48/50\n",
            "120/120 [==============================] - 0s 3ms/step - loss: 0.1399 - accuracy: 0.9667\n",
            "Epoch 49/50\n",
            "120/120 [==============================] - 0s 2ms/step - loss: 0.1366 - accuracy: 0.9583\n",
            "Epoch 50/50\n",
            "120/120 [==============================] - 0s 2ms/step - loss: 0.1315 - accuracy: 0.9667\n"
          ]
        },
        {
          "output_type": "execute_result",
          "data": {
            "text/plain": [
              "<keras.callbacks.History at 0x7fb040f19840>"
            ]
          },
          "metadata": {},
          "execution_count": 14
        }
      ]
    },
    {
      "cell_type": "code",
      "source": [
        "# Evaluation du modèle sur les tests data\n",
        "perte, accuracy = model.evaluate(X_test, y_test, verbose=0)\n",
        "print(f\"Loss = {perte}, Accuracy = {accuracy}\")"
      ],
      "metadata": {
        "colab": {
          "base_uri": "https://localhost:8080/"
        },
        "id": "A3noEn0mW78N",
        "outputId": "7052aec9-2468-4bf4-88b4-4f5eac4f3e9c"
      },
      "execution_count": 15,
      "outputs": [
        {
          "output_type": "stream",
          "name": "stdout",
          "text": [
            "Loss = 0.18622446060180664, Accuracy = 0.9333333373069763\n"
          ]
        }
      ]
    },
    {
      "cell_type": "code",
      "source": [],
      "metadata": {
        "id": "2sTpYLFOXkSU"
      },
      "execution_count": null,
      "outputs": []
    }
  ]
}